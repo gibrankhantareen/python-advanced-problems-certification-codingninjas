{
  "nbformat": 4,
  "nbformat_minor": 0,
  "metadata": {
    "colab": {
      "provenance": []
    },
    "kernelspec": {
      "name": "python3",
      "display_name": "Python 3"
    },
    "language_info": {
      "name": "python"
    }
  },
  "cells": [
    {
      "cell_type": "code",
      "execution_count": null,
      "metadata": {
        "id": "uLLkdkR59atv"
      },
      "outputs": [],
      "source": [
        "### These all notes are made by Gibran Khan Tareen. I have made it for other student's reference and also for my personal revision ###\n",
        "\n",
        "# Question:\n",
        "## Print the following pattern for the given N number of rows.\n",
        "## Pattern for N = 4\n",
        "\n",
        "# Input format : Integer N (Total no. of rows)\n",
        "# Output format : Pattern in N lines\n",
        "\n",
        "# Sample Input : 4\n",
        "# Sample Output : 1\n",
        "#                 21\n",
        "#                 321\n",
        "#                 4321"
      ]
    },
    {
      "cell_type": "code",
      "source": [
        "def print_pattern(n):\n",
        "    for i in range(1, n + 1):\n",
        "        for j in range(i, 0, -1):\n",
        "            print(j, end=\"\")\n",
        "        print()\n",
        "\n",
        "\n",
        "n = int(input())\n",
        "print_pattern(n)"
      ],
      "metadata": {
        "colab": {
          "base_uri": "https://localhost:8080/"
        },
        "id": "S5nn7msL-K-9",
        "outputId": "cdc2d19d-8fdb-4e08-c9ab-bb4250d203ba"
      },
      "execution_count": 1,
      "outputs": [
        {
          "output_type": "stream",
          "name": "stdout",
          "text": [
            "4\n",
            "1\n",
            "21\n",
            "321\n",
            "4321\n"
          ]
        }
      ]
    },
    {
      "cell_type": "code",
      "source": [
        "# HENCE DONE"
      ],
      "metadata": {
        "id": "9ASidCsq-R3j"
      },
      "execution_count": null,
      "outputs": []
    }
  ]
}