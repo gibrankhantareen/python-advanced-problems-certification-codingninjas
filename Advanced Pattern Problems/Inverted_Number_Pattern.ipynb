{
  "nbformat": 4,
  "nbformat_minor": 0,
  "metadata": {
    "colab": {
      "provenance": []
    },
    "kernelspec": {
      "name": "python3",
      "display_name": "Python 3"
    },
    "language_info": {
      "name": "python"
    }
  },
  "cells": [
    {
      "cell_type": "code",
      "execution_count": null,
      "metadata": {
        "id": "uLLkdkR59atv"
      },
      "outputs": [],
      "source": [
        "### These all notes are made by Gibran Khan Tareen. I have made it for other student's reference and also for my personal revision ###\n",
        "\n",
        "# Question:\n",
        "## Print the following pattern for the given N number of rows.\n",
        "## Pattern for N = 4\n",
        "\n",
        "# Input format : Integer N (Total no. of rows)\n",
        "# Output format : Pattern in N lines\n",
        "\n",
        "# Sample Input : 3\n",
        "# Sample Output : 333\n",
        "#                 22\n",
        "#                 1"
      ]
    },
    {
      "cell_type": "code",
      "source": [
        "n = int(input())\n",
        "for i in range(n, 0, -1):\n",
        "    print(str(i) * i)"
      ],
      "metadata": {
        "colab": {
          "base_uri": "https://localhost:8080/"
        },
        "id": "S5nn7msL-K-9",
        "outputId": "44ab35ae-218e-41a0-c636-e23639e10f31"
      },
      "execution_count": 1,
      "outputs": [
        {
          "output_type": "stream",
          "name": "stdout",
          "text": [
            "5\n",
            "55555\n",
            "4444\n",
            "333\n",
            "22\n",
            "1\n"
          ]
        }
      ]
    },
    {
      "cell_type": "code",
      "source": [
        "# HENCE DONE"
      ],
      "metadata": {
        "id": "9ASidCsq-R3j"
      },
      "execution_count": null,
      "outputs": []
    }
  ]
}