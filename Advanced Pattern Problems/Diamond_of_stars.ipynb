{
  "nbformat": 4,
  "nbformat_minor": 0,
  "metadata": {
    "colab": {
      "provenance": []
    },
    "kernelspec": {
      "name": "python3",
      "display_name": "Python 3"
    },
    "language_info": {
      "name": "python"
    }
  },
  "cells": [
    {
      "cell_type": "code",
      "execution_count": null,
      "metadata": {
        "id": "uLLkdkR59atv"
      },
      "outputs": [],
      "source": [
        "### These all notes are made by Gibran Khan Tareen. I have made it for other student's reference and also for my personal revision ###\n",
        "\n",
        "# Question:\n",
        "## Print the following pattern for the given N number of rows.\n",
        "## Pattern for N = 4\n",
        "\n",
        "# Input format : Integer N (Total no. of rows)\n",
        "# Output format : Pattern in N lines\n",
        "\n",
        "# Sample Input : 3\n",
        "# Sample Output : *\n",
        "#                **\n",
        "#                ***"
      ]
    },
    {
      "cell_type": "code",
      "source": [
        "n = int(input())\n",
        "uper_hissa = (n + 1) // 2\n",
        "niche_hissa = n // 2\n",
        "#Top Half\n",
        "current_row = 1\n",
        "while current_row <= uper_hissa:\n",
        "    spaces = 1\n",
        "    while spaces <= (uper_hissa - current_row) :\n",
        "        print(\" \", end = \"\")\n",
        "        spaces += 1\n",
        "    current_column = 1\n",
        "    while current_column <= (2 * current_row) - 1 :\n",
        "        print(\"*\", end = \"\")\n",
        "        current_column += 1\n",
        "    print()\n",
        "    current_row += 1\n",
        "    \n",
        "#Bottom Half\n",
        "current_row = niche_hissa\n",
        "while current_row >= 1 : \n",
        "    spaces = 1\n",
        "    while spaces <= (niche_hissa - current_row + 1) :\n",
        "        print(\" \", end = \"\")\n",
        "        spaces += 1\n",
        "    current_column = 1\n",
        "    while current_column <= (2 * current_row) - 1 :\n",
        "        print(\"*\", end = \"\") \n",
        "        current_column += 1\n",
        "    print()\n",
        "    current_row -= 1"
      ],
      "metadata": {
        "colab": {
          "base_uri": "https://localhost:8080/"
        },
        "id": "S5nn7msL-K-9",
        "outputId": "b7ee975a-6642-49e3-888d-a1a9634f95ac"
      },
      "execution_count": 1,
      "outputs": [
        {
          "output_type": "stream",
          "name": "stdout",
          "text": [
            "5\n",
            "  *\n",
            " ***\n",
            "*****\n",
            " ***\n",
            "  *\n"
          ]
        }
      ]
    },
    {
      "cell_type": "code",
      "source": [
        "# HENCE DONE"
      ],
      "metadata": {
        "id": "9ASidCsq-R3j"
      },
      "execution_count": null,
      "outputs": []
    }
  ]
}