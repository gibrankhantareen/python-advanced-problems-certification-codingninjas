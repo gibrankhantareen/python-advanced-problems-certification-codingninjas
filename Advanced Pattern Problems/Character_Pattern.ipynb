{
  "nbformat": 4,
  "nbformat_minor": 0,
  "metadata": {
    "colab": {
      "provenance": []
    },
    "kernelspec": {
      "name": "python3",
      "display_name": "Python 3"
    },
    "language_info": {
      "name": "python"
    }
  },
  "cells": [
    {
      "cell_type": "code",
      "execution_count": null,
      "metadata": {
        "id": "uLLkdkR59atv"
      },
      "outputs": [],
      "source": [
        "### These all notes are made by Gibran Khan Tareen. I have made it for other student's reference and also for my personal revision ###\n",
        "\n",
        "# Question:\n",
        "## Print the following pattern for the given N number of rows.\n",
        "## Pattern for N = 4\n",
        "\n",
        "# Input format : Integer N (Total no. of rows)\n",
        "# Output format : Pattern in N lines\n",
        "\n",
        "# Sample Input : 4\n",
        "# Sample Output : A\n",
        "#                 BC\n",
        "#                 CDE\n",
        "#                 DEFG"
      ]
    },
    {
      "cell_type": "code",
      "source": [
        "n=int(input())\n",
        "i=1\n",
        "while i<=n:\n",
        "    j=1\n",
        "    charp=ord('A')+i-1\n",
        "    while j<=i:\n",
        "        print(chr(charp+j-1), end=\"\")\n",
        "        j=j+1\n",
        "    print()\n",
        "    i=i+1"
      ],
      "metadata": {
        "colab": {
          "base_uri": "https://localhost:8080/"
        },
        "id": "S5nn7msL-K-9",
        "outputId": "a79ac57f-8bc2-46f7-df7e-3a682b39308e"
      },
      "execution_count": 1,
      "outputs": [
        {
          "output_type": "stream",
          "name": "stdout",
          "text": [
            "5\n",
            "A\n",
            "BC\n",
            "CDE\n",
            "DEFG\n",
            "EFGHI\n"
          ]
        }
      ]
    },
    {
      "cell_type": "code",
      "source": [
        "# HENCE DONE"
      ],
      "metadata": {
        "id": "9ASidCsq-R3j"
      },
      "execution_count": null,
      "outputs": []
    }
  ]
}